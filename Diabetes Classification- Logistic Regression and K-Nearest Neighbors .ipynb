{
 "cells": [
  {
   "cell_type": "markdown",
   "metadata": {},
   "source": [
    "### Importing Libraries "
   ]
  },
  {
   "cell_type": "code",
   "execution_count": 1,
   "metadata": {},
   "outputs": [],
   "source": [
    "import numpy as np \n",
    "import matplotlib.pyplot as plt \n",
    "import pandas as pd \n",
    "import seaborn as sns \n",
    "\n",
    "from sklearn.impute import SimpleImputer\n",
    "from sklearn.model_selection import train_test_split, GridSearchCV, cross_val_score, KFold\n",
    "from sklearn.preprocessing import StandardScaler, PolynomialFeatures\n",
    "from sklearn.linear_model import LogisticRegression, LinearRegression\n",
    "from sklearn.neighbors import KNeighborsClassifier\n",
    "from sklearn.metrics import confusion_matrix, classification_report, roc_curve, roc_auc_score"
   ]
  },
  {
   "cell_type": "markdown",
   "metadata": {},
   "source": [
    "### Importing the Dataset "
   ]
  },
  {
   "cell_type": "code",
   "execution_count": 2,
   "metadata": {},
   "outputs": [],
   "source": [
    "filepath = '/Users/Melat/Desktop/Data Analysis:ML Portfolio/Diabetes:ML/diabetes_clean.csv'\n",
    "diabetes = pd.read_csv(filepath)"
   ]
  },
  {
   "cell_type": "markdown",
   "metadata": {},
   "source": [
    "### Exploratory Data Analysis"
   ]
  },
  {
   "cell_type": "markdown",
   "metadata": {},
   "source": [
    "#### Data Shape and Information "
   ]
  },
  {
   "cell_type": "code",
   "execution_count": 3,
   "metadata": {},
   "outputs": [
    {
     "name": "stdout",
     "output_type": "stream",
     "text": [
      "<class 'pandas.core.frame.DataFrame'>\n",
      "RangeIndex: 768 entries, 0 to 767\n",
      "Data columns (total 9 columns):\n",
      "pregnancies    768 non-null int64\n",
      "glucose        768 non-null int64\n",
      "diastolic      768 non-null int64\n",
      "triceps        768 non-null int64\n",
      "insulin        768 non-null int64\n",
      "bmi            768 non-null float64\n",
      "dpf            768 non-null float64\n",
      "age            768 non-null int64\n",
      "diabetes       768 non-null int64\n",
      "dtypes: float64(2), int64(7)\n",
      "memory usage: 54.1 KB\n"
     ]
    }
   ],
   "source": [
    "diabetes.info()"
   ]
  },
  {
   "cell_type": "code",
   "execution_count": 4,
   "metadata": {},
   "outputs": [
    {
     "data": {
      "text/html": [
       "<div>\n",
       "<style scoped>\n",
       "    .dataframe tbody tr th:only-of-type {\n",
       "        vertical-align: middle;\n",
       "    }\n",
       "\n",
       "    .dataframe tbody tr th {\n",
       "        vertical-align: top;\n",
       "    }\n",
       "\n",
       "    .dataframe thead th {\n",
       "        text-align: right;\n",
       "    }\n",
       "</style>\n",
       "<table border=\"1\" class=\"dataframe\">\n",
       "  <thead>\n",
       "    <tr style=\"text-align: right;\">\n",
       "      <th></th>\n",
       "      <th>pregnancies</th>\n",
       "      <th>glucose</th>\n",
       "      <th>diastolic</th>\n",
       "      <th>triceps</th>\n",
       "      <th>insulin</th>\n",
       "      <th>bmi</th>\n",
       "      <th>dpf</th>\n",
       "      <th>age</th>\n",
       "      <th>diabetes</th>\n",
       "    </tr>\n",
       "  </thead>\n",
       "  <tbody>\n",
       "    <tr>\n",
       "      <td>0</td>\n",
       "      <td>6</td>\n",
       "      <td>148</td>\n",
       "      <td>72</td>\n",
       "      <td>35</td>\n",
       "      <td>0</td>\n",
       "      <td>33.6</td>\n",
       "      <td>0.627</td>\n",
       "      <td>50</td>\n",
       "      <td>1</td>\n",
       "    </tr>\n",
       "    <tr>\n",
       "      <td>1</td>\n",
       "      <td>1</td>\n",
       "      <td>85</td>\n",
       "      <td>66</td>\n",
       "      <td>29</td>\n",
       "      <td>0</td>\n",
       "      <td>26.6</td>\n",
       "      <td>0.351</td>\n",
       "      <td>31</td>\n",
       "      <td>0</td>\n",
       "    </tr>\n",
       "    <tr>\n",
       "      <td>2</td>\n",
       "      <td>8</td>\n",
       "      <td>183</td>\n",
       "      <td>64</td>\n",
       "      <td>0</td>\n",
       "      <td>0</td>\n",
       "      <td>23.3</td>\n",
       "      <td>0.672</td>\n",
       "      <td>32</td>\n",
       "      <td>1</td>\n",
       "    </tr>\n",
       "    <tr>\n",
       "      <td>3</td>\n",
       "      <td>1</td>\n",
       "      <td>89</td>\n",
       "      <td>66</td>\n",
       "      <td>23</td>\n",
       "      <td>94</td>\n",
       "      <td>28.1</td>\n",
       "      <td>0.167</td>\n",
       "      <td>21</td>\n",
       "      <td>0</td>\n",
       "    </tr>\n",
       "    <tr>\n",
       "      <td>4</td>\n",
       "      <td>0</td>\n",
       "      <td>137</td>\n",
       "      <td>40</td>\n",
       "      <td>35</td>\n",
       "      <td>168</td>\n",
       "      <td>43.1</td>\n",
       "      <td>2.288</td>\n",
       "      <td>33</td>\n",
       "      <td>1</td>\n",
       "    </tr>\n",
       "  </tbody>\n",
       "</table>\n",
       "</div>"
      ],
      "text/plain": [
       "   pregnancies  glucose  diastolic  triceps  insulin   bmi    dpf  age  \\\n",
       "0            6      148         72       35        0  33.6  0.627   50   \n",
       "1            1       85         66       29        0  26.6  0.351   31   \n",
       "2            8      183         64        0        0  23.3  0.672   32   \n",
       "3            1       89         66       23       94  28.1  0.167   21   \n",
       "4            0      137         40       35      168  43.1  2.288   33   \n",
       "\n",
       "   diabetes  \n",
       "0         1  \n",
       "1         0  \n",
       "2         1  \n",
       "3         0  \n",
       "4         1  "
      ]
     },
     "execution_count": 4,
     "metadata": {},
     "output_type": "execute_result"
    }
   ],
   "source": [
    "diabetes.head()"
   ]
  },
  {
   "cell_type": "markdown",
   "metadata": {},
   "source": [
    "There are 8 features and 768 training examples, all non-null. All of the features are numerical and the target is categorical. Renaming columns or datatype conversion is not necessary for the dataset."
   ]
  },
  {
   "cell_type": "markdown",
   "metadata": {},
   "source": [
    "#### Target Variable Analysis "
   ]
  },
  {
   "cell_type": "code",
   "execution_count": 5,
   "metadata": {},
   "outputs": [
    {
     "data": {
      "text/plain": [
       "0    500\n",
       "1    268\n",
       "Name: diabetes, dtype: int64"
      ]
     },
     "execution_count": 5,
     "metadata": {},
     "output_type": "execute_result"
    }
   ],
   "source": [
    "diabetes['diabetes'].value_counts().sort_index()"
   ]
  },
  {
   "cell_type": "code",
   "execution_count": 6,
   "metadata": {},
   "outputs": [
    {
     "data": {
      "image/png": "[encoded data removed]",
      "text/plain": [
       "<Figure size 432x288 with 1 Axes>"
      ]
     },
     "metadata": {
      "needs_background": "light"
     },
     "output_type": "display_data"
    }
   ],
   "source": [
    "%matplotlib inline \n",
    "sns.countplot(data = diabetes, x = diabetes['diabetes'])\n",
    "plt.show()"
   ]
  },
  {
   "cell_type": "markdown",
   "metadata": {},
   "source": [
    "There exists a class imbalance. This can affect our model accuracy. We will use confusion matrix, precision and recall to address this issue."
   ]
  },
  {
   "cell_type": "markdown",
   "metadata": {},
   "source": [
    "#### Analysis of Features"
   ]
  },
  {
   "cell_type": "code",
   "execution_count": 7,
   "metadata": {},
   "outputs": [
    {
     "data": {
      "text/html": [
       "<div>\n",
       "<style scoped>\n",
       "    .dataframe tbody tr th:only-of-type {\n",
       "        vertical-align: middle;\n",
       "    }\n",
       "\n",
       "    .dataframe tbody tr th {\n",
       "        vertical-align: top;\n",
       "    }\n",
       "\n",
       "    .dataframe thead th {\n",
       "        text-align: right;\n",
       "    }\n",
       "</style>\n",
       "<table border=\"1\" class=\"dataframe\">\n",
       "  <thead>\n",
       "    <tr style=\"text-align: right;\">\n",
       "      <th></th>\n",
       "      <th>count</th>\n",
       "      <th>mean</th>\n",
       "      <th>std</th>\n",
       "      <th>min</th>\n",
       "      <th>25%</th>\n",
       "      <th>50%</th>\n",
       "      <th>75%</th>\n",
       "      <th>max</th>\n",
       "    </tr>\n",
       "  </thead>\n",
       "  <tbody>\n",
       "    <tr>\n",
       "      <td>pregnancies</td>\n",
       "      <td>768.0</td>\n",
       "      <td>3.845052</td>\n",
       "      <td>3.369578</td>\n",
       "      <td>0.000</td>\n",
       "      <td>1.00000</td>\n",
       "      <td>3.0000</td>\n",
       "      <td>6.00000</td>\n",
       "      <td>17.00</td>\n",
       "    </tr>\n",
       "    <tr>\n",
       "      <td>glucose</td>\n",
       "      <td>768.0</td>\n",
       "      <td>120.894531</td>\n",
       "      <td>31.972618</td>\n",
       "      <td>0.000</td>\n",
       "      <td>99.00000</td>\n",
       "      <td>117.0000</td>\n",
       "      <td>140.25000</td>\n",
       "      <td>199.00</td>\n",
       "    </tr>\n",
       "    <tr>\n",
       "      <td>diastolic</td>\n",
       "      <td>768.0</td>\n",
       "      <td>69.105469</td>\n",
       "      <td>19.355807</td>\n",
       "      <td>0.000</td>\n",
       "      <td>62.00000</td>\n",
       "      <td>72.0000</td>\n",
       "      <td>80.00000</td>\n",
       "      <td>122.00</td>\n",
       "    </tr>\n",
       "    <tr>\n",
       "      <td>triceps</td>\n",
       "      <td>768.0</td>\n",
       "      <td>20.536458</td>\n",
       "      <td>15.952218</td>\n",
       "      <td>0.000</td>\n",
       "      <td>0.00000</td>\n",
       "      <td>23.0000</td>\n",
       "      <td>32.00000</td>\n",
       "      <td>99.00</td>\n",
       "    </tr>\n",
       "    <tr>\n",
       "      <td>insulin</td>\n",
       "      <td>768.0</td>\n",
       "      <td>79.799479</td>\n",
       "      <td>115.244002</td>\n",
       "      <td>0.000</td>\n",
       "      <td>0.00000</td>\n",
       "      <td>30.5000</td>\n",
       "      <td>127.25000</td>\n",
       "      <td>846.00</td>\n",
       "    </tr>\n",
       "    <tr>\n",
       "      <td>bmi</td>\n",
       "      <td>768.0</td>\n",
       "      <td>31.992578</td>\n",
       "      <td>7.884160</td>\n",
       "      <td>0.000</td>\n",
       "      <td>27.30000</td>\n",
       "      <td>32.0000</td>\n",
       "      <td>36.60000</td>\n",
       "      <td>67.10</td>\n",
       "    </tr>\n",
       "    <tr>\n",
       "      <td>dpf</td>\n",
       "      <td>768.0</td>\n",
       "      <td>0.471876</td>\n",
       "      <td>0.331329</td>\n",
       "      <td>0.078</td>\n",
       "      <td>0.24375</td>\n",
       "      <td>0.3725</td>\n",
       "      <td>0.62625</td>\n",
       "      <td>2.42</td>\n",
       "    </tr>\n",
       "    <tr>\n",
       "      <td>age</td>\n",
       "      <td>768.0</td>\n",
       "      <td>33.240885</td>\n",
       "      <td>11.760232</td>\n",
       "      <td>21.000</td>\n",
       "      <td>24.00000</td>\n",
       "      <td>29.0000</td>\n",
       "      <td>41.00000</td>\n",
       "      <td>81.00</td>\n",
       "    </tr>\n",
       "    <tr>\n",
       "      <td>diabetes</td>\n",
       "      <td>768.0</td>\n",
       "      <td>0.348958</td>\n",
       "      <td>0.476951</td>\n",
       "      <td>0.000</td>\n",
       "      <td>0.00000</td>\n",
       "      <td>0.0000</td>\n",
       "      <td>1.00000</td>\n",
       "      <td>1.00</td>\n",
       "    </tr>\n",
       "  </tbody>\n",
       "</table>\n",
       "</div>"
      ],
      "text/plain": [
       "             count        mean         std     min       25%       50%  \\\n",
       "pregnancies  768.0    3.845052    3.369578   0.000   1.00000    3.0000   \n",
       "glucose      768.0  120.894531   31.972618   0.000  99.00000  117.0000   \n",
       "diastolic    768.0   69.105469   19.355807   0.000  62.00000   72.0000   \n",
       "triceps      768.0   20.536458   15.952218   0.000   0.00000   23.0000   \n",
       "insulin      768.0   79.799479  115.244002   0.000   0.00000   30.5000   \n",
       "bmi          768.0   31.992578    7.884160   0.000  27.30000   32.0000   \n",
       "dpf          768.0    0.471876    0.331329   0.078   0.24375    0.3725   \n",
       "age          768.0   33.240885   11.760232  21.000  24.00000   29.0000   \n",
       "diabetes     768.0    0.348958    0.476951   0.000   0.00000    0.0000   \n",
       "\n",
       "                   75%     max  \n",
       "pregnancies    6.00000   17.00  \n",
       "glucose      140.25000  199.00  \n",
       "diastolic     80.00000  122.00  \n",
       "triceps       32.00000   99.00  \n",
       "insulin      127.25000  846.00  \n",
       "bmi           36.60000   67.10  \n",
       "dpf            0.62625    2.42  \n",
       "age           41.00000   81.00  \n",
       "diabetes       1.00000    1.00  "
      ]
     },
     "execution_count": 7,
     "metadata": {},
     "output_type": "execute_result"
    }
   ],
   "source": [
    "diabetes.describe().T"
   ]
  },
  {
   "cell_type": "markdown",
   "metadata": {},
   "source": [
    "We need to Verify the data for glucose, diastolic, triceps, insulin, and bmi, since the minimum values for these features is 0. "
   ]
  },
  {
   "cell_type": "markdown",
   "metadata": {},
   "source": [
    "We will visualize the numerical variables using a histogram. "
   ]
  },
  {
   "cell_type": "code",
   "execution_count": 8,
   "metadata": {},
   "outputs": [
    {
     "data": {
      "image/png": "[encoded data removed]",
      "text/plain": [
       "<Figure size 864x1008 with 9 Axes>"
      ]
     },
     "metadata": {
      "needs_background": "light"
     },
     "output_type": "display_data"
    }
   ],
   "source": [
    "%matplotlib inline\n",
    "plt.figure(figsize=(12,14))\n",
    "\n",
    "for index, feature in enumerate(diabetes.columns):\n",
    "    plt.subplot(3, 3, index+1)\n",
    "    sns.histplot(data = diabetes, x = feature)\n",
    "\n",
    "plt.show()"
   ]
  },
  {
   "cell_type": "markdown",
   "metadata": {},
   "source": [
    "### Data Preprocessing"
   ]
  },
  {
   "cell_type": "markdown",
   "metadata": {},
   "source": [
    "#### Verify Data"
   ]
  },
  {
   "cell_type": "markdown",
   "metadata": {},
   "source": [
    "This dataset contains zeros/invalid values i.e., values that are impossible for glucose, insulin, and BMI."
   ]
  },
  {
   "cell_type": "code",
   "execution_count": 9,
   "metadata": {},
   "outputs": [
    {
     "name": "stdout",
     "output_type": "stream",
     "text": [
      "0      0.486979\n",
      "105    0.014323\n",
      "140    0.011719\n",
      "130    0.011719\n",
      "120    0.010417\n",
      "Name: insulin, dtype: float64\n",
      "0     0.295573\n",
      "32    0.040365\n",
      "30    0.035156\n",
      "27    0.029948\n",
      "23    0.028646\n",
      "Name: triceps, dtype: float64\n",
      "(35, 9)\n",
      "(5, 9)\n",
      "(11, 9)\n"
     ]
    }
   ],
   "source": [
    "print(diabetes['insulin'].value_counts(normalize = True)[:5])\n",
    "print(diabetes['triceps'].value_counts(normalize = True)[:5])\n",
    "print(diabetes[diabetes['diastolic'] == 0].shape)\n",
    "print(diabetes[diabetes['glucose'] == 0].shape)\n",
    "print(diabetes[diabetes['bmi'] == 0].shape)"
   ]
  },
  {
   "cell_type": "markdown",
   "metadata": {},
   "source": [
    "Each one of the above features has a significant amount of 0 values. Insulin in particular has close to 50% of it's values as 0. Given that the normal range is 16-166 mIU/L, we will conclude that the 0 values are a placeholder for missing values. A value of 0 for tricep thickness is not physically possible so we will also assume that 0 has been used as a placeholder for missing values. We will therefore proceed in replacing the 0 values with Nan."
   ]
  },
  {
   "cell_type": "code",
   "execution_count": 10,
   "metadata": {},
   "outputs": [],
   "source": [
    "columns = ['glucose', 'diastolic', 'triceps', 'insulin', 'bmi']\n",
    "diabetes[columns] = diabetes[columns].replace(0, np.nan)"
   ]
  },
  {
   "cell_type": "code",
   "execution_count": 11,
   "metadata": {},
   "outputs": [
    {
     "data": {
      "text/plain": [
       "pregnancies      0\n",
       "glucose          5\n",
       "diastolic       35\n",
       "triceps        227\n",
       "insulin        374\n",
       "bmi             11\n",
       "dpf              0\n",
       "age              0\n",
       "diabetes         0\n",
       "dtype: int64"
      ]
     },
     "execution_count": 11,
     "metadata": {},
     "output_type": "execute_result"
    }
   ],
   "source": [
    "diabetes.isnull().sum()"
   ]
  },
  {
   "cell_type": "markdown",
   "metadata": {},
   "source": [
    "There are a significant amount of missing values in insulin and tricep thickness.  "
   ]
  },
  {
   "cell_type": "code",
   "execution_count": 12,
   "metadata": {},
   "outputs": [
    {
     "data": {
      "text/html": [
       "<div>\n",
       "<style scoped>\n",
       "    .dataframe tbody tr th:only-of-type {\n",
       "        vertical-align: middle;\n",
       "    }\n",
       "\n",
       "    .dataframe tbody tr th {\n",
       "        vertical-align: top;\n",
       "    }\n",
       "\n",
       "    .dataframe thead th {\n",
       "        text-align: right;\n",
       "    }\n",
       "</style>\n",
       "<table border=\"1\" class=\"dataframe\">\n",
       "  <thead>\n",
       "    <tr style=\"text-align: right;\">\n",
       "      <th></th>\n",
       "      <th>count</th>\n",
       "      <th>mean</th>\n",
       "      <th>std</th>\n",
       "      <th>min</th>\n",
       "      <th>25%</th>\n",
       "      <th>50%</th>\n",
       "      <th>75%</th>\n",
       "      <th>max</th>\n",
       "    </tr>\n",
       "  </thead>\n",
       "  <tbody>\n",
       "    <tr>\n",
       "      <td>pregnancies</td>\n",
       "      <td>768.0</td>\n",
       "      <td>3.845052</td>\n",
       "      <td>3.369578</td>\n",
       "      <td>0.000</td>\n",
       "      <td>1.00000</td>\n",
       "      <td>3.0000</td>\n",
       "      <td>6.00000</td>\n",
       "      <td>17.00</td>\n",
       "    </tr>\n",
       "    <tr>\n",
       "      <td>glucose</td>\n",
       "      <td>763.0</td>\n",
       "      <td>121.686763</td>\n",
       "      <td>30.535641</td>\n",
       "      <td>44.000</td>\n",
       "      <td>99.00000</td>\n",
       "      <td>117.0000</td>\n",
       "      <td>141.00000</td>\n",
       "      <td>199.00</td>\n",
       "    </tr>\n",
       "    <tr>\n",
       "      <td>diastolic</td>\n",
       "      <td>733.0</td>\n",
       "      <td>72.405184</td>\n",
       "      <td>12.382158</td>\n",
       "      <td>24.000</td>\n",
       "      <td>64.00000</td>\n",
       "      <td>72.0000</td>\n",
       "      <td>80.00000</td>\n",
       "      <td>122.00</td>\n",
       "    </tr>\n",
       "    <tr>\n",
       "      <td>triceps</td>\n",
       "      <td>541.0</td>\n",
       "      <td>29.153420</td>\n",
       "      <td>10.476982</td>\n",
       "      <td>7.000</td>\n",
       "      <td>22.00000</td>\n",
       "      <td>29.0000</td>\n",
       "      <td>36.00000</td>\n",
       "      <td>99.00</td>\n",
       "    </tr>\n",
       "    <tr>\n",
       "      <td>insulin</td>\n",
       "      <td>394.0</td>\n",
       "      <td>155.548223</td>\n",
       "      <td>118.775855</td>\n",
       "      <td>14.000</td>\n",
       "      <td>76.25000</td>\n",
       "      <td>125.0000</td>\n",
       "      <td>190.00000</td>\n",
       "      <td>846.00</td>\n",
       "    </tr>\n",
       "    <tr>\n",
       "      <td>bmi</td>\n",
       "      <td>757.0</td>\n",
       "      <td>32.457464</td>\n",
       "      <td>6.924988</td>\n",
       "      <td>18.200</td>\n",
       "      <td>27.50000</td>\n",
       "      <td>32.3000</td>\n",
       "      <td>36.60000</td>\n",
       "      <td>67.10</td>\n",
       "    </tr>\n",
       "    <tr>\n",
       "      <td>dpf</td>\n",
       "      <td>768.0</td>\n",
       "      <td>0.471876</td>\n",
       "      <td>0.331329</td>\n",
       "      <td>0.078</td>\n",
       "      <td>0.24375</td>\n",
       "      <td>0.3725</td>\n",
       "      <td>0.62625</td>\n",
       "      <td>2.42</td>\n",
       "    </tr>\n",
       "    <tr>\n",
       "      <td>age</td>\n",
       "      <td>768.0</td>\n",
       "      <td>33.240885</td>\n",
       "      <td>11.760232</td>\n",
       "      <td>21.000</td>\n",
       "      <td>24.00000</td>\n",
       "      <td>29.0000</td>\n",
       "      <td>41.00000</td>\n",
       "      <td>81.00</td>\n",
       "    </tr>\n",
       "    <tr>\n",
       "      <td>diabetes</td>\n",
       "      <td>768.0</td>\n",
       "      <td>0.348958</td>\n",
       "      <td>0.476951</td>\n",
       "      <td>0.000</td>\n",
       "      <td>0.00000</td>\n",
       "      <td>0.0000</td>\n",
       "      <td>1.00000</td>\n",
       "      <td>1.00</td>\n",
       "    </tr>\n",
       "  </tbody>\n",
       "</table>\n",
       "</div>"
      ],
      "text/plain": [
       "             count        mean         std     min       25%       50%  \\\n",
       "pregnancies  768.0    3.845052    3.369578   0.000   1.00000    3.0000   \n",
       "glucose      763.0  121.686763   30.535641  44.000  99.00000  117.0000   \n",
       "diastolic    733.0   72.405184   12.382158  24.000  64.00000   72.0000   \n",
       "triceps      541.0   29.153420   10.476982   7.000  22.00000   29.0000   \n",
       "insulin      394.0  155.548223  118.775855  14.000  76.25000  125.0000   \n",
       "bmi          757.0   32.457464    6.924988  18.200  27.50000   32.3000   \n",
       "dpf          768.0    0.471876    0.331329   0.078   0.24375    0.3725   \n",
       "age          768.0   33.240885   11.760232  21.000  24.00000   29.0000   \n",
       "diabetes     768.0    0.348958    0.476951   0.000   0.00000    0.0000   \n",
       "\n",
       "                   75%     max  \n",
       "pregnancies    6.00000   17.00  \n",
       "glucose      141.00000  199.00  \n",
       "diastolic     80.00000  122.00  \n",
       "triceps       36.00000   99.00  \n",
       "insulin      190.00000  846.00  \n",
       "bmi           36.60000   67.10  \n",
       "dpf            0.62625    2.42  \n",
       "age           41.00000   81.00  \n",
       "diabetes       1.00000    1.00  "
      ]
     },
     "execution_count": 12,
     "metadata": {},
     "output_type": "execute_result"
    }
   ],
   "source": [
    "diabetes.describe().T"
   ]
  },
  {
   "cell_type": "markdown",
   "metadata": {},
   "source": [
    "There are some outliers in insulin. The maximum value for insulin is 846, while the interquartile range is between 76.25 and 190. The normal range for 2-Hour post glucose insulin levels is 16-166 mIU/L. \n",
    "There seems to be some outliers in BMI and tricep thickness as well. We will visualize the distribution of these features using boxplots. "
   ]
  },
  {
   "cell_type": "code",
   "execution_count": 13,
   "metadata": {},
   "outputs": [
    {
     "data": {
      "image/png": "[encoded data removed]",
      "text/plain": [
       "<Figure size 1008x864 with 6 Axes>"
      ]
     },
     "metadata": {
      "needs_background": "light"
     },
     "output_type": "display_data"
    }
   ],
   "source": [
    "%matplotlib inline\n",
    "\n",
    "features = ['insulin','glucose' ,'triceps', 'bmi', 'diastolic', 'dpf']\n",
    "plt.figure(figsize=(14,12))\n",
    "\n",
    "for index, feature in enumerate(features):\n",
    "    plt.subplot(2, 3, index+1)\n",
    "    sns.boxplot(data = diabetes, x = feature)\n",
    "\n",
    "plt.show()"
   ]
  },
  {
   "cell_type": "markdown",
   "metadata": {},
   "source": [
    "##### Function to Remove Outliers"
   ]
  },
  {
   "cell_type": "code",
   "execution_count": 14,
   "metadata": {},
   "outputs": [],
   "source": [
    "def outliers(series, dataframe):\n",
    "    q_1 = series.quantile(0.25)\n",
    "    q_3 = series.quantile(0.75)\n",
    "    iqr = q_3 - q_1\n",
    "    lower_bound = q_1 - (1.5 * iqr)\n",
    "    upper_bound = q_3 + (1.5 * iqr)\n",
    "    \n",
    "    dataframe = dataframe.loc[(series >= lower_bound) & (series <= upper_bound) \n",
    "                              | (series.isnull())]\n",
    "    return dataframe "
   ]
  },
  {
   "cell_type": "code",
   "execution_count": 15,
   "metadata": {},
   "outputs": [],
   "source": [
    "diabetes = outliers(diabetes['insulin'], diabetes)\n",
    "diabetes = outliers(diabetes['bmi'], diabetes)\n",
    "diabetes = outliers(diabetes['dpf'], diabetes)"
   ]
  },
  {
   "cell_type": "code",
   "execution_count": 16,
   "metadata": {},
   "outputs": [
    {
     "data": {
      "text/html": [
       "<div>\n",
       "<style scoped>\n",
       "    .dataframe tbody tr th:only-of-type {\n",
       "        vertical-align: middle;\n",
       "    }\n",
       "\n",
       "    .dataframe tbody tr th {\n",
       "        vertical-align: top;\n",
       "    }\n",
       "\n",
       "    .dataframe thead th {\n",
       "        text-align: right;\n",
       "    }\n",
       "</style>\n",
       "<table border=\"1\" class=\"dataframe\">\n",
       "  <thead>\n",
       "    <tr style=\"text-align: right;\">\n",
       "      <th></th>\n",
       "      <th>count</th>\n",
       "      <th>mean</th>\n",
       "      <th>std</th>\n",
       "      <th>min</th>\n",
       "      <th>25%</th>\n",
       "      <th>50%</th>\n",
       "      <th>75%</th>\n",
       "      <th>max</th>\n",
       "    </tr>\n",
       "  </thead>\n",
       "  <tbody>\n",
       "    <tr>\n",
       "      <td>pregnancies</td>\n",
       "      <td>707.0</td>\n",
       "      <td>3.859972</td>\n",
       "      <td>3.356769</td>\n",
       "      <td>0.000</td>\n",
       "      <td>1.0000</td>\n",
       "      <td>3.000</td>\n",
       "      <td>6.000</td>\n",
       "      <td>17.000</td>\n",
       "    </tr>\n",
       "    <tr>\n",
       "      <td>glucose</td>\n",
       "      <td>702.0</td>\n",
       "      <td>119.648148</td>\n",
       "      <td>29.417262</td>\n",
       "      <td>44.000</td>\n",
       "      <td>99.0000</td>\n",
       "      <td>115.000</td>\n",
       "      <td>137.750</td>\n",
       "      <td>198.000</td>\n",
       "    </tr>\n",
       "    <tr>\n",
       "      <td>diastolic</td>\n",
       "      <td>673.0</td>\n",
       "      <td>72.371471</td>\n",
       "      <td>12.144660</td>\n",
       "      <td>24.000</td>\n",
       "      <td>64.0000</td>\n",
       "      <td>72.000</td>\n",
       "      <td>80.000</td>\n",
       "      <td>122.000</td>\n",
       "    </tr>\n",
       "    <tr>\n",
       "      <td>triceps</td>\n",
       "      <td>488.0</td>\n",
       "      <td>28.772541</td>\n",
       "      <td>10.340184</td>\n",
       "      <td>7.000</td>\n",
       "      <td>21.0000</td>\n",
       "      <td>29.000</td>\n",
       "      <td>36.000</td>\n",
       "      <td>99.000</td>\n",
       "    </tr>\n",
       "    <tr>\n",
       "      <td>insulin</td>\n",
       "      <td>348.0</td>\n",
       "      <td>132.158046</td>\n",
       "      <td>74.481963</td>\n",
       "      <td>15.000</td>\n",
       "      <td>75.0000</td>\n",
       "      <td>118.000</td>\n",
       "      <td>176.500</td>\n",
       "      <td>360.000</td>\n",
       "    </tr>\n",
       "    <tr>\n",
       "      <td>bmi</td>\n",
       "      <td>697.0</td>\n",
       "      <td>32.061693</td>\n",
       "      <td>6.499526</td>\n",
       "      <td>18.200</td>\n",
       "      <td>27.3000</td>\n",
       "      <td>32.000</td>\n",
       "      <td>36.200</td>\n",
       "      <td>50.000</td>\n",
       "    </tr>\n",
       "    <tr>\n",
       "      <td>dpf</td>\n",
       "      <td>707.0</td>\n",
       "      <td>0.423703</td>\n",
       "      <td>0.243752</td>\n",
       "      <td>0.078</td>\n",
       "      <td>0.2375</td>\n",
       "      <td>0.349</td>\n",
       "      <td>0.583</td>\n",
       "      <td>1.162</td>\n",
       "    </tr>\n",
       "    <tr>\n",
       "      <td>age</td>\n",
       "      <td>707.0</td>\n",
       "      <td>33.230552</td>\n",
       "      <td>11.805279</td>\n",
       "      <td>21.000</td>\n",
       "      <td>24.0000</td>\n",
       "      <td>29.000</td>\n",
       "      <td>41.000</td>\n",
       "      <td>81.000</td>\n",
       "    </tr>\n",
       "    <tr>\n",
       "      <td>diabetes</td>\n",
       "      <td>707.0</td>\n",
       "      <td>0.325318</td>\n",
       "      <td>0.468825</td>\n",
       "      <td>0.000</td>\n",
       "      <td>0.0000</td>\n",
       "      <td>0.000</td>\n",
       "      <td>1.000</td>\n",
       "      <td>1.000</td>\n",
       "    </tr>\n",
       "  </tbody>\n",
       "</table>\n",
       "</div>"
      ],
      "text/plain": [
       "             count        mean        std     min      25%      50%      75%  \\\n",
       "pregnancies  707.0    3.859972   3.356769   0.000   1.0000    3.000    6.000   \n",
       "glucose      702.0  119.648148  29.417262  44.000  99.0000  115.000  137.750   \n",
       "diastolic    673.0   72.371471  12.144660  24.000  64.0000   72.000   80.000   \n",
       "triceps      488.0   28.772541  10.340184   7.000  21.0000   29.000   36.000   \n",
       "insulin      348.0  132.158046  74.481963  15.000  75.0000  118.000  176.500   \n",
       "bmi          697.0   32.061693   6.499526  18.200  27.3000   32.000   36.200   \n",
       "dpf          707.0    0.423703   0.243752   0.078   0.2375    0.349    0.583   \n",
       "age          707.0   33.230552  11.805279  21.000  24.0000   29.000   41.000   \n",
       "diabetes     707.0    0.325318   0.468825   0.000   0.0000    0.000    1.000   \n",
       "\n",
       "                 max  \n",
       "pregnancies   17.000  \n",
       "glucose      198.000  \n",
       "diastolic    122.000  \n",
       "triceps       99.000  \n",
       "insulin      360.000  \n",
       "bmi           50.000  \n",
       "dpf            1.162  \n",
       "age           81.000  \n",
       "diabetes       1.000  "
      ]
     },
     "execution_count": 16,
     "metadata": {},
     "output_type": "execute_result"
    }
   ],
   "source": [
    "diabetes.describe().T"
   ]
  },
  {
   "cell_type": "markdown",
   "metadata": {},
   "source": [
    "We have reduced the number of training examples when eliminating outliers for insulin, dpf and bmi.  "
   ]
  },
  {
   "cell_type": "markdown",
   "metadata": {},
   "source": [
    "#### Handling Missing Data"
   ]
  },
  {
   "cell_type": "code",
   "execution_count": 17,
   "metadata": {},
   "outputs": [
    {
     "data": {
      "text/plain": [
       "pregnancies      0\n",
       "glucose          5\n",
       "diastolic       34\n",
       "triceps        219\n",
       "insulin        359\n",
       "bmi             10\n",
       "dpf              0\n",
       "age              0\n",
       "diabetes         0\n",
       "dtype: int64"
      ]
     },
     "execution_count": 17,
     "metadata": {},
     "output_type": "execute_result"
    }
   ],
   "source": [
    "diabetes.isnull().sum()"
   ]
  },
  {
   "cell_type": "code",
   "execution_count": 18,
   "metadata": {},
   "outputs": [
    {
     "data": {
      "image/png": "[encoded data removed]",
      "text/plain": [
       "<Figure size 576x432 with 2 Axes>"
      ]
     },
     "metadata": {
      "needs_background": "light"
     },
     "output_type": "display_data"
    }
   ],
   "source": [
    "%matplotlib inline \n",
    "plt.figure(figsize=(8,6))\n",
    "sns.heatmap(diabetes.corr(), annot= True)\n",
    "plt.show()"
   ]
  },
  {
   "cell_type": "markdown",
   "metadata": {},
   "source": [
    "There is moderate correlation between glucose and insulin. The same holds for tricep thickness and bmi. Also note that there is no multicollinearity between the variables.   "
   ]
  },
  {
   "cell_type": "code",
   "execution_count": 19,
   "metadata": {},
   "outputs": [
    {
     "data": {
      "image/png": "[encoded data removed]",
      "text/plain": [
       "<Figure size 432x288 with 1 Axes>"
      ]
     },
     "metadata": {
      "needs_background": "light"
     },
     "output_type": "display_data"
    }
   ],
   "source": [
    "sns.heatmap(diabetes.notnull(), annot = True, cbar = False)\n",
    "plt.show()"
   ]
  },
  {
   "cell_type": "markdown",
   "metadata": {},
   "source": [
    "The missing values for BMI is less than 5%, and the data is also missing in 3 other columns. But dropping the missing values will cause us to lose valuable information in 4-5 other columns. The same analysis holds for glucose and diastolic. We will use the mean of each feature to impute the missing values.  \n",
    "Tricep thickness and insulin have a large number of missing values. Since tricep thickness is moderately correlated with bmi we will use Linear Regresson to impute the missing values for these feature. "
   ]
  },
  {
   "cell_type": "code",
   "execution_count": 20,
   "metadata": {},
   "outputs": [
    {
     "data": {
      "image/png": "[encoded data removed]",
      "text/plain": [
       "<Figure size 576x432 with 1 Axes>"
      ]
     },
     "metadata": {
      "needs_background": "light"
     },
     "output_type": "display_data"
    }
   ],
   "source": [
    "%matplotlib inline\n",
    "plt.figure(figsize=(8,6))\n",
    "\n",
    "sns.regplot(x=\"bmi\", y=\"triceps\", data=diabetes);\n"
   ]
  },
  {
   "cell_type": "markdown",
   "metadata": {},
   "source": [
    "##### Handling Missing Data with Machine Learning \n",
    "The function below takes the null values in one column and fills them by fitting a regression model using other columns in the dataset. "
   ]
  },
  {
   "cell_type": "code",
   "execution_count": 21,
   "metadata": {},
   "outputs": [],
   "source": [
    "def linear_imputation(dataset, predictor, target):\n",
    "    testdf = dataset.loc[dataset[target].isnull() == True].copy()\n",
    "    traindf = dataset.loc[dataset[target].isnull() == False].copy()\n",
    "\n",
    "    x_test = testdf[predictor].values.reshape(-1,1)\n",
    "    x_train = traindf[predictor].values.reshape(-1,1)\n",
    "    y_train = traindf[target].values \n",
    "\n",
    "    model = LinearRegression()\n",
    "    model.fit(x_train, y_train)\n",
    "    testdf[target] = model.predict(x_test)\n",
    "\n",
    "    diabetes_clean = pd.concat([traindf, testdf], axis = 0)\n",
    "    return diabetes_clean"
   ]
  },
  {
   "cell_type": "markdown",
   "metadata": {},
   "source": [
    "Missing values for tricep thickness are filled using bmi as the predictor."
   ]
  },
  {
   "cell_type": "code",
   "execution_count": 22,
   "metadata": {},
   "outputs": [],
   "source": [
    "bmi_mean = diabetes['bmi'].mean()\n",
    "diabetes['bmi'] = diabetes['bmi'].fillna(bmi_mean)"
   ]
  },
  {
   "cell_type": "code",
   "execution_count": 23,
   "metadata": {},
   "outputs": [],
   "source": [
    "diabetes = linear_imputation(diabetes, 'bmi', 'triceps')"
   ]
  },
  {
   "cell_type": "code",
   "execution_count": null,
   "metadata": {},
   "outputs": [],
   "source": []
  },
  {
   "cell_type": "markdown",
   "metadata": {},
   "source": [
    "### Machine Learning Models "
   ]
  },
  {
   "cell_type": "markdown",
   "metadata": {},
   "source": [
    "#### Split Dataset "
   ]
  },
  {
   "cell_type": "code",
   "execution_count": 24,
   "metadata": {},
   "outputs": [],
   "source": [
    "X = diabetes.drop('diabetes', axis = 1).values\n",
    "y = diabetes['diabetes'].values"
   ]
  },
  {
   "cell_type": "code",
   "execution_count": 25,
   "metadata": {},
   "outputs": [],
   "source": [
    "x_train, x_test, y_train, y_test = train_test_split(X, y, test_size = 0.2, random_state = 1)"
   ]
  },
  {
   "cell_type": "markdown",
   "metadata": {},
   "source": [
    "#### Handling Missing Values"
   ]
  },
  {
   "cell_type": "code",
   "execution_count": 26,
   "metadata": {},
   "outputs": [],
   "source": [
    "impute_numeric = SimpleImputer(strategy = 'mean')\n",
    "x_train = impute_numeric.fit_transform(x_train)\n",
    "x_test = impute_numeric.transform(x_test)"
   ]
  },
  {
   "cell_type": "markdown",
   "metadata": {},
   "source": [
    "#### Feature Scaling "
   ]
  },
  {
   "cell_type": "code",
   "execution_count": 27,
   "metadata": {},
   "outputs": [],
   "source": [
    "scaler = StandardScaler()\n",
    "x_train_scaled = scaler.fit_transform(x_train)\n",
    "x_test_scaled = scaler.transform(x_test)"
   ]
  },
  {
   "cell_type": "markdown",
   "metadata": {},
   "source": [
    "#### Model Comparison "
   ]
  },
  {
   "cell_type": "code",
   "execution_count": 28,
   "metadata": {},
   "outputs": [
    {
     "name": "stdout",
     "output_type": "stream",
     "text": [
      "Logistic Regression has a mean of 0.77, and 95% confidence interval of [0.71541353 0.84147086]\n",
      "K-Neigbors has a mean of 0.75, and 95% confidence interval of [0.65173089 0.8537594 ]\n"
     ]
    },
    {
     "data": {
      "image/png": "[encoded data removed]",
      "text/plain": [
       "<Figure size 432x288 with 1 Axes>"
      ]
     },
     "metadata": {
      "needs_background": "light"
     },
     "output_type": "display_data"
    }
   ],
   "source": [
    "models = {'Logistic Regression': LogisticRegression(solver='lbfgs'), \n",
    "          'K-Neigbors': KNeighborsClassifier()}\n",
    "kfold = KFold(n_splits = 10, shuffle = True,  random_state = 1)\n",
    "cv_scores = []\n",
    "\n",
    "for name, model in models.items():\n",
    "    cv_score = cross_val_score(model, x_train_scaled, y_train, cv = kfold)\n",
    "    cv_scores.append(cv_score)\n",
    "    mean = np.mean(cv_score)\n",
    "    confidence = np.quantile(cv_score, [0.025, 0.975])\n",
    "    print(f\"{name} has a mean of {mean:.2f}, and 95% confidence interval of {confidence}\")\n",
    "\n",
    "ax = sns.boxplot(cv_scores)\n",
    "ax.set_xticklabels(models.keys())\n",
    "plt.show()\n",
    "    "
   ]
  },
  {
   "cell_type": "markdown",
   "metadata": {},
   "source": [
    "Without tuning the models, logistic regression performs better in terms of accuracy. The average cross validation accuracy score for the model is 0.77, it has a 95% confidence interval of (0.72 0.84)."
   ]
  },
  {
   "cell_type": "markdown",
   "metadata": {},
   "source": [
    "#### Logistic Regression without Tuning   "
   ]
  },
  {
   "cell_type": "code",
   "execution_count": 29,
   "metadata": {},
   "outputs": [],
   "source": [
    "scores = []\n",
    "for neighbor in range(1,21):\n",
    "    model = KNeighborsClassifier(n_neighbors=neighbor )\n",
    "    model.fit(x_train, y_train)\n",
    "    predictions = model.predict(x_test)\n",
    "    scores.append(model.score(x_test, y_test))\n",
    "    "
   ]
  },
  {
   "cell_type": "code",
   "execution_count": 30,
   "metadata": {},
   "outputs": [
    {
     "data": {
      "image/png": "[encoded data removed]",
      "text/plain": [
       "<Figure size 432x288 with 2 Axes>"
      ]
     },
     "metadata": {
      "needs_background": "light"
     },
     "output_type": "display_data"
    }
   ],
   "source": [
    "ax = plt.figure(figsize=(6,4))\n",
    "ax = sns.heatmap(confusion_matrix(y_test, predictions), annot=True, fmt='d', cmap='viridis',\n",
    "                annot_kws={\"size\": 30, \"weight\": \"bold\", \"ha\": 'center',\"va\": 'baseline'})  \n",
    "labels = ['0', '1']\n",
    "ax.set_xticklabels(labels, fontsize=20)\n",
    "ax.set_yticklabels(labels, fontsize=20)\n",
    "plt.show()"
   ]
  },
  {
   "cell_type": "code",
   "execution_count": 31,
   "metadata": {},
   "outputs": [
    {
     "name": "stdout",
     "output_type": "stream",
     "text": [
      "              precision    recall  f1-score   support\n",
      "\n",
      "           0       0.90      0.87      0.88       101\n",
      "           1       0.70      0.76      0.73        41\n",
      "\n",
      "    accuracy                           0.84       142\n",
      "   macro avg       0.80      0.81      0.81       142\n",
      "weighted avg       0.84      0.84      0.84       142\n",
      "\n"
     ]
    }
   ],
   "source": [
    "print(classification_report(y_test, predictions))"
   ]
  },
  {
   "cell_type": "markdown",
   "metadata": {},
   "source": [
    "This may not be representative of the model to generalize to unseen data.\n",
    "What if the test set happens to contain a bunch of points that are particularly easy to predict? Alternatively, if it contains points that are peculiar.  "
   ]
  },
  {
   "cell_type": "markdown",
   "metadata": {},
   "source": [
    "#### Tuning Logistic Regression "
   ]
  },
  {
   "cell_type": "code",
   "execution_count": 32,
   "metadata": {},
   "outputs": [],
   "source": [
    "cv_results = []\n",
    "cv_average = []\n",
    "cv_result_recalls_avg = []\n",
    "degrees = []\n",
    "\n",
    "for degree in range(1,6):\n",
    "    \n",
    "    # Add polynomial features to the training set\n",
    "    polynomial = PolynomialFeatures(degree, include_bias = False)\n",
    "    x_train_poly = polynomial.fit_transform(x_train)\n",
    "    \n",
    "    # Scale the training set\n",
    "    scaler = StandardScaler()\n",
    "    x_train_poly_scaled = scaler.fit_transform(x_train_poly)\n",
    "     \n",
    "    # Create and train the model\n",
    "    model = LogisticRegression(solver='lbfgs', max_iter = 500)\n",
    "    \n",
    "    kfold = KFold(n_splits = 10, shuffle = True,  random_state = 1)\n",
    "    cv_result = cross_val_score(model, x_train_poly_scaled, y_train, cv = kfold)\n",
    "    cv_result_recall = cross_val_score(model, x_train_poly_scaled, y_train, \n",
    "                                cv = kfold, scoring = 'recall')\n",
    "\n",
    "    cv_results.append(cv_result)\n",
    "    cv_average.append(np.mean(cv_result))\n",
    "    \n",
    "    cv_result_recalls_avg.append(np.mean(cv_result_recall))\n",
    "    \n",
    "    degrees.append(degree)\n"
   ]
  },
  {
   "cell_type": "code",
   "execution_count": 33,
   "metadata": {},
   "outputs": [
    {
     "data": {
      "image/png": "[encoded data removed]",
      "text/plain": [
       "<Figure size 720x432 with 2 Axes>"
      ]
     },
     "metadata": {
      "needs_background": "light"
     },
     "output_type": "display_data"
    }
   ],
   "source": [
    "plt.figure(figsize= (10,6))\n",
    "\n",
    "plt.subplot(1,2,1)\n",
    "sns.lineplot(x= degrees, y = cv_average)\n",
    "plt.xlabel('Degree')\n",
    "plt.ylabel('Accuracy')\n",
    "plt.subplot(1,2,2)\n",
    "sns.lineplot(x= degrees, y = cv_result_recalls_avg)\n",
    "plt.xlabel('Degree')\n",
    "plt.ylabel('Recall')\n",
    "\n",
    "plt.show()\n"
   ]
  },
  {
   "cell_type": "code",
   "execution_count": 34,
   "metadata": {},
   "outputs": [],
   "source": [
    "models = []\n",
    "accuracy_score_train = []\n",
    "x_train_poly_scaled_list = []\n",
    "scalers = []\n",
    "\n",
    "for degree in range(1,6):\n",
    "    # Add polynomial features to the training set\n",
    "    polynomial = PolynomialFeatures(degree, include_bias = False)\n",
    "    x_train_poly = polynomial.fit_transform(x_train)\n",
    "    # Scale the training set\n",
    "    scaler = StandardScaler()\n",
    "    x_train_poly_scaled = scaler.fit_transform(x_train_poly)\n",
    "    scalers.append(scaler)\n",
    "    \n",
    "    x_train_poly_scaled_list.append(x_train_poly_scaled)\n",
    "    # Create and train the model\n",
    "    model = LogisticRegression(solver='lbfgs', max_iter = 500)\n",
    "    model.fit(x_train_poly_scaled, y_train)\n",
    "    models.append(model)\n",
    "    # Compute the training accuracy\n",
    "    accuracy_score_train.append(model.score(x_train_poly_scaled, y_train))\n",
    "    "
   ]
  },
  {
   "cell_type": "code",
   "execution_count": 35,
   "metadata": {},
   "outputs": [
    {
     "data": {
      "image/png": "[encoded data removed]",
      "text/plain": [
       "<Figure size 432x288 with 1 Axes>"
      ]
     },
     "metadata": {
      "needs_background": "light"
     },
     "output_type": "display_data"
    }
   ],
   "source": [
    "degrees = [d for d in range(1,6)]\n",
    "plt.plot(degrees, accuracy_score_train, label = 'train')\n",
    "plt.legend()\n",
    "plt.xlabel('Degree')\n",
    "plt.ylabel('Accuracy')\n",
    "plt.show()"
   ]
  },
  {
   "cell_type": "markdown",
   "metadata": {},
   "source": [
    "As the degree of the polynomial increases, the model does not generalize well. As we add more polynomial features, the model overfits (has high variance). We will choose the model with degree = 2. This is the model that performs the best when we perform cross validation. It also happens to have a training accuracy close to 80% while having the lowest variance. "
   ]
  },
  {
   "cell_type": "code",
   "execution_count": 36,
   "metadata": {},
   "outputs": [],
   "source": [
    "model = models[1]\n",
    "param_grid = {'C': np.linspace(0.1,4,40)}\n",
    "model = GridSearchCV(model, param_grid, cv = kfold, iid=False)"
   ]
  },
  {
   "cell_type": "code",
   "execution_count": 37,
   "metadata": {},
   "outputs": [
    {
     "name": "stdout",
     "output_type": "stream",
     "text": [
      "{'C': 1.9}\n"
     ]
    }
   ],
   "source": [
    "x_train_degree_two = x_train_poly_scaled_list[1]\n",
    "model.fit(x_train_degree_two, y_train)\n",
    "print(model.best_params_)"
   ]
  },
  {
   "cell_type": "markdown",
   "metadata": {},
   "source": [
    "This is evident that we did not have a high variance problem."
   ]
  },
  {
   "cell_type": "code",
   "execution_count": 38,
   "metadata": {},
   "outputs": [],
   "source": [
    "polynomial = PolynomialFeatures(2, include_bias = False)\n",
    "x_test_poly = polynomial.fit_transform(x_test)\n",
    "x_test_poly_scaled = scalers[1].transform(x_test_poly)"
   ]
  },
  {
   "cell_type": "code",
   "execution_count": 39,
   "metadata": {},
   "outputs": [
    {
     "name": "stdout",
     "output_type": "stream",
     "text": [
      "[[89 12]\n",
      " [14 27]]\n",
      "              precision    recall  f1-score   support\n",
      "\n",
      "           0       0.86      0.88      0.87       101\n",
      "           1       0.69      0.66      0.68        41\n",
      "\n",
      "    accuracy                           0.82       142\n",
      "   macro avg       0.78      0.77      0.77       142\n",
      "weighted avg       0.81      0.82      0.82       142\n",
      "\n",
      "0.7698623520888676\n"
     ]
    }
   ],
   "source": [
    "predictions = model.predict(x_test_poly_scaled)\n",
    "print(confusion_matrix(y_test, predictions))\n",
    "print(classification_report(y_test, predictions))\n",
    "print(roc_auc_score(y_test, predictions))"
   ]
  },
  {
   "cell_type": "code",
   "execution_count": 40,
   "metadata": {},
   "outputs": [
    {
     "data": {
      "image/png": "[encoded data removed]",
      "text/plain": [
       "<Figure size 432x288 with 2 Axes>"
      ]
     },
     "metadata": {
      "needs_background": "light"
     },
     "output_type": "display_data"
    }
   ],
   "source": [
    "ax = plt.figure(figsize=(6,4))\n",
    "ax = sns.heatmap(confusion_matrix(y_test, predictions), annot=True, fmt='d', cmap='viridis',\n",
    "                annot_kws={\"size\": 30, \"weight\": \"bold\", \"ha\": 'center',\"va\": 'baseline'})  \n",
    "labels = ['0', '1']\n",
    "ax.set_xticklabels(labels, fontsize=20)\n",
    "ax.set_yticklabels(labels, fontsize=20)\n",
    "plt.show()"
   ]
  },
  {
   "cell_type": "code",
   "execution_count": 41,
   "metadata": {},
   "outputs": [
    {
     "name": "stdout",
     "output_type": "stream",
     "text": [
      "              precision    recall  f1-score   support\n",
      "\n",
      "           0       0.86      0.88      0.87       101\n",
      "           1       0.69      0.66      0.68        41\n",
      "\n",
      "    accuracy                           0.82       142\n",
      "   macro avg       0.78      0.77      0.77       142\n",
      "weighted avg       0.81      0.82      0.82       142\n",
      "\n"
     ]
    }
   ],
   "source": [
    "print(classification_report(y_test, predictions))"
   ]
  },
  {
   "cell_type": "markdown",
   "metadata": {},
   "source": [
    "#### Error Analysis "
   ]
  },
  {
   "cell_type": "markdown",
   "metadata": {},
   "source": [
    "The accuracy for the model is 82% which is great. A recall of 0.66 for properly classifying diabetic patients will need some improvement. The same holds true for the precision score of diabetes. Training the model on more data points with a target value of 1 or diabetes might help in improving the models performance.  "
   ]
  },
  {
   "cell_type": "code",
   "execution_count": 43,
   "metadata": {},
   "outputs": [
    {
     "name": "stdout",
     "output_type": "stream",
     "text": [
      "We got an AUC-ROC value of 0.77.\n"
     ]
    }
   ],
   "source": [
    "roc = round(roc_auc_score(y_test, predictions), 2)\n",
    "print(f\"We got an AUC-ROC value of {roc}.\")"
   ]
  },
  {
   "cell_type": "markdown",
   "metadata": {},
   "source": [
    "A value 0.7 ≤ ROC < 0.8 is considered an acceptable discrimination."
   ]
  },
  {
   "cell_type": "code",
   "execution_count": null,
   "metadata": {},
   "outputs": [],
   "source": []
  }
 ],
 "metadata": {
  "kernelspec": {
   "display_name": "Python 3",
   "language": "python",
   "name": "python3"
  },
  "language_info": {
   "codemirror_mode": {
    "name": "ipython",
    "version": 3
   },
   "file_extension": ".py",
   "mimetype": "text/x-python",
   "name": "python",
   "nbconvert_exporter": "python",
   "pygments_lexer": "ipython3",
   "version": "3.7.4"
  }
 },
 "nbformat": 4,
 "nbformat_minor": 2
}
